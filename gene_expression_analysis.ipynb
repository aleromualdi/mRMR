{
 "cells": [
  {
   "cell_type": "markdown",
   "metadata": {},
   "source": [
    "# Feature Selection On Gene Expression Data"
   ]
  },
  {
   "cell_type": "markdown",
   "metadata": {},
   "source": [
    "<b>Data science problem </b>: Find a compact subset of features that is maximally predictive of the outcome of a classifier.<br>\n",
    "<br>\n",
    "\n",
    "Feature selection is particularly important for high-dimensionality and low-sample size datasets, and for datasets that contain redundant features, as a classificaton model built with relevant features will in general show higher class-discriminative power.<br>\n",
    "\n",
    "In this analysis I will show how feature selection with Minimum Redundancy-Maximum Relevance (mRMR) can be used to improve classification performance of a Random Forest classifier on high-dimensional molecular data representing gene expression values. <br>\n",
    "\n",
    "Random Forest (RF) is an enstablished machine-learning method for integrating gene expression data as it generally works well with high-dimensional problems. However, the presence of correlated features impacts RF’s ability to identify the strongest ones by decreasing the estimated importance scores of correlated features.  <br>\n",
    "Training a RF classifier on a subset of relevant features selected by mRMR results in higher classification performance computed on a independent set. <br>\n",
    "\n",
    "\n",
    "<br>\n",
    "\n",
    "List of contents:<br>\n",
    "1. Dataset Description.<br>\n",
    "2. Load data.<br>\n",
    "3. Prepare data.<br>\n",
    "3.1 Standardize.<br>\n",
    "3.1 Discretize.<br>\n",
    "4. mRMR Feature Selection.<br>\n",
    "5. Model Building and Classification.<br>\n",
    "6. Resources"
   ]
  },
  {
   "cell_type": "markdown",
   "metadata": {},
   "source": [
    "## 1. Dataset Description"
   ]
  },
  {
   "cell_type": "markdown",
   "metadata": {},
   "source": [
    "I used the Golub *et al.* dataset from a proof-of-concept study published in 1999 [link to publication](https://science.sciencemag.org/content/286/5439/531/tab-article-info). The study showed how new cases of cancer could be classified by gene expression monitoring via DNA microarray. These data were used to classify patients with acute myeloid leukemia (AML) and acute lymphoblastic leukemia (ALL).<br>\n",
    "Gene expression data is an example of high-dimensionality and low-sample size dataset with high number of correlated feature vectors representing the gene expressions values. <br>\n",
    "Feature selection applied to such dataset is used for biomarker discovery. <br>"
   ]
  },
  {
   "cell_type": "markdown",
   "metadata": {},
   "source": [
    "## 2. Load data"
   ]
  },
  {
   "cell_type": "code",
   "execution_count": null,
   "metadata": {},
   "outputs": [],
   "source": [
    "import pandas as pd\n",
    "\n",
    "\n",
    "def read_data(path):\n",
    "    \"\"\"\n",
    "    Helper function to read and preprocess original data.\n",
    "    \"\"\"\n",
    "    df = pd.read_csv(path)\n",
    "    cols = [c for c in df.columns if c.lower()[:4] != 'call']\n",
    "    df = df[cols]\n",
    "\n",
    "    del df['Gene Description']\n",
    "\n",
    "    df = df.T\n",
    "    df.columns = df.iloc[0] \n",
    "    return df[1:]"
   ]
  },
  {
   "cell_type": "markdown",
   "metadata": {},
   "source": [
    "We use the helper function *read_data* to read original raw data, preprocess it, and transform it into pandas DataFrame. <br>\n",
    "The *train* data will be used for feature selection and model building, while the *test* data will be used to compute the classification scores of the model."
   ]
  },
  {
   "cell_type": "code",
   "execution_count": 73,
   "metadata": {},
   "outputs": [],
   "source": [
    "# read train/test data\n",
    "df_train = read_data('data/data_set_ALL_AML_train.csv')\n",
    "df_test = read_data('data/data_set_ALL_AML_independent.csv')\n",
    "\n",
    "# check that train and test sets have the same set of features\n",
    "assert(set(df_train.columns) == set(df_test.columns))\n",
    "\n",
    "# get feature names\n",
    "features = df_train.columns\n",
    "\n",
    "# read target data\n",
    "y = pd.read_csv( 'data/actual.csv', index_col='patient')\n",
    "y.index = [str(x) for x in y.index]\n",
    "\n",
    "# split target vector between train and test\n",
    "y_train = y.loc[df_train.index]\n",
    "y_train = y_train['cancer'].to_list()\n",
    "\n",
    "y_test = y.loc[df_test.index]\n",
    "y_test = y_test['cancer'].to_list()"
   ]
  },
  {
   "cell_type": "markdown",
   "metadata": {},
   "source": [
    "Let's printout some readout stats."
   ]
  },
  {
   "cell_type": "code",
   "execution_count": 54,
   "metadata": {},
   "outputs": [
    {
     "name": "stdout",
     "output_type": "stream",
     "text": [
      "N. features = 7129\n",
      "target classes = ['ALL' 'AML']\n",
      "\n",
      "Train set:\n",
      "N. samples = 38\n",
      "N. ALL = 27\n",
      "N. AML = 11\n",
      "\n",
      "Test set:\n",
      "n. samples = 34\n",
      "N. ALL = 20\n",
      "N. AML = 14\n"
     ]
    }
   ],
   "source": [
    "print('N. features =', df_train.shape[1])\n",
    "classes = y['cancer'].unique()\n",
    "print('target classes =', classes)\n",
    "\n",
    "print()\n",
    "print('Train set:')\n",
    "print('N. samples =', df_train.shape[0])\n",
    "print('N. %s =' %classes[0], y_train.count(classes[0]))\n",
    "print('N. %s =' %classes[1], y_train.count(classes[1]))\n",
    "\n",
    "print()\n",
    "print('Test set:')\n",
    "print('n. samples =', df_test.shape[0])\n",
    "print('N. %s =' %classes[0], y_test.count(classes[0]))\n",
    "print('N. %s =' %classes[1], y_test.count(classes[1]))"
   ]
  },
  {
   "cell_type": "markdown",
   "metadata": {},
   "source": [
    "We note that both train and test sets are unbalanced, but we will see later how the RF classifier will take care of it. <br>\n",
    "Let’s display the first 5 rows of the train DataFrame:"
   ]
  },
  {
   "cell_type": "code",
   "execution_count": 29,
   "metadata": {},
   "outputs": [
    {
     "data": {
      "text/html": [
       "<div>\n",
       "<style scoped>\n",
       "    .dataframe tbody tr th:only-of-type {\n",
       "        vertical-align: middle;\n",
       "    }\n",
       "\n",
       "    .dataframe tbody tr th {\n",
       "        vertical-align: top;\n",
       "    }\n",
       "\n",
       "    .dataframe thead th {\n",
       "        text-align: right;\n",
       "    }\n",
       "</style>\n",
       "<table border=\"1\" class=\"dataframe\">\n",
       "  <thead>\n",
       "    <tr style=\"text-align: right;\">\n",
       "      <th>Gene Accession Number</th>\n",
       "      <th>AFFX-BioB-5_at</th>\n",
       "      <th>AFFX-BioB-M_at</th>\n",
       "      <th>AFFX-BioB-3_at</th>\n",
       "      <th>AFFX-BioC-5_at</th>\n",
       "      <th>AFFX-BioC-3_at</th>\n",
       "      <th>AFFX-BioDn-5_at</th>\n",
       "      <th>AFFX-BioDn-3_at</th>\n",
       "      <th>AFFX-CreX-5_at</th>\n",
       "      <th>AFFX-CreX-3_at</th>\n",
       "      <th>AFFX-BioB-5_st</th>\n",
       "      <th>...</th>\n",
       "      <th>U48730_at</th>\n",
       "      <th>U58516_at</th>\n",
       "      <th>U73738_at</th>\n",
       "      <th>X06956_at</th>\n",
       "      <th>X16699_at</th>\n",
       "      <th>X83863_at</th>\n",
       "      <th>Z17240_at</th>\n",
       "      <th>L49218_f_at</th>\n",
       "      <th>M71243_f_at</th>\n",
       "      <th>Z78285_f_at</th>\n",
       "    </tr>\n",
       "  </thead>\n",
       "  <tbody>\n",
       "    <tr>\n",
       "      <th>1</th>\n",
       "      <td>-214</td>\n",
       "      <td>-153</td>\n",
       "      <td>-58</td>\n",
       "      <td>88</td>\n",
       "      <td>-295</td>\n",
       "      <td>-558</td>\n",
       "      <td>199</td>\n",
       "      <td>-176</td>\n",
       "      <td>252</td>\n",
       "      <td>206</td>\n",
       "      <td>...</td>\n",
       "      <td>185</td>\n",
       "      <td>511</td>\n",
       "      <td>-125</td>\n",
       "      <td>389</td>\n",
       "      <td>-37</td>\n",
       "      <td>793</td>\n",
       "      <td>329</td>\n",
       "      <td>36</td>\n",
       "      <td>191</td>\n",
       "      <td>-37</td>\n",
       "    </tr>\n",
       "    <tr>\n",
       "      <th>2</th>\n",
       "      <td>-139</td>\n",
       "      <td>-73</td>\n",
       "      <td>-1</td>\n",
       "      <td>283</td>\n",
       "      <td>-264</td>\n",
       "      <td>-400</td>\n",
       "      <td>-330</td>\n",
       "      <td>-168</td>\n",
       "      <td>101</td>\n",
       "      <td>74</td>\n",
       "      <td>...</td>\n",
       "      <td>169</td>\n",
       "      <td>837</td>\n",
       "      <td>-36</td>\n",
       "      <td>442</td>\n",
       "      <td>-17</td>\n",
       "      <td>782</td>\n",
       "      <td>295</td>\n",
       "      <td>11</td>\n",
       "      <td>76</td>\n",
       "      <td>-14</td>\n",
       "    </tr>\n",
       "    <tr>\n",
       "      <th>3</th>\n",
       "      <td>-76</td>\n",
       "      <td>-49</td>\n",
       "      <td>-307</td>\n",
       "      <td>309</td>\n",
       "      <td>-376</td>\n",
       "      <td>-650</td>\n",
       "      <td>33</td>\n",
       "      <td>-367</td>\n",
       "      <td>206</td>\n",
       "      <td>-215</td>\n",
       "      <td>...</td>\n",
       "      <td>315</td>\n",
       "      <td>1199</td>\n",
       "      <td>33</td>\n",
       "      <td>168</td>\n",
       "      <td>52</td>\n",
       "      <td>1138</td>\n",
       "      <td>777</td>\n",
       "      <td>41</td>\n",
       "      <td>228</td>\n",
       "      <td>-41</td>\n",
       "    </tr>\n",
       "    <tr>\n",
       "      <th>4</th>\n",
       "      <td>-135</td>\n",
       "      <td>-114</td>\n",
       "      <td>265</td>\n",
       "      <td>12</td>\n",
       "      <td>-419</td>\n",
       "      <td>-585</td>\n",
       "      <td>158</td>\n",
       "      <td>-253</td>\n",
       "      <td>49</td>\n",
       "      <td>31</td>\n",
       "      <td>...</td>\n",
       "      <td>240</td>\n",
       "      <td>835</td>\n",
       "      <td>218</td>\n",
       "      <td>174</td>\n",
       "      <td>-110</td>\n",
       "      <td>627</td>\n",
       "      <td>170</td>\n",
       "      <td>-50</td>\n",
       "      <td>126</td>\n",
       "      <td>-91</td>\n",
       "    </tr>\n",
       "    <tr>\n",
       "      <th>5</th>\n",
       "      <td>-106</td>\n",
       "      <td>-125</td>\n",
       "      <td>-76</td>\n",
       "      <td>168</td>\n",
       "      <td>-230</td>\n",
       "      <td>-284</td>\n",
       "      <td>4</td>\n",
       "      <td>-122</td>\n",
       "      <td>70</td>\n",
       "      <td>252</td>\n",
       "      <td>...</td>\n",
       "      <td>156</td>\n",
       "      <td>649</td>\n",
       "      <td>57</td>\n",
       "      <td>504</td>\n",
       "      <td>-26</td>\n",
       "      <td>250</td>\n",
       "      <td>314</td>\n",
       "      <td>14</td>\n",
       "      <td>56</td>\n",
       "      <td>-25</td>\n",
       "    </tr>\n",
       "  </tbody>\n",
       "</table>\n",
       "<p>5 rows × 7129 columns</p>\n",
       "</div>"
      ],
      "text/plain": [
       "Gene Accession Number AFFX-BioB-5_at AFFX-BioB-M_at AFFX-BioB-3_at  \\\n",
       "1                               -214           -153            -58   \n",
       "2                               -139            -73             -1   \n",
       "3                                -76            -49           -307   \n",
       "4                               -135           -114            265   \n",
       "5                               -106           -125            -76   \n",
       "\n",
       "Gene Accession Number AFFX-BioC-5_at AFFX-BioC-3_at AFFX-BioDn-5_at  \\\n",
       "1                                 88           -295            -558   \n",
       "2                                283           -264            -400   \n",
       "3                                309           -376            -650   \n",
       "4                                 12           -419            -585   \n",
       "5                                168           -230            -284   \n",
       "\n",
       "Gene Accession Number AFFX-BioDn-3_at AFFX-CreX-5_at AFFX-CreX-3_at  \\\n",
       "1                                 199           -176            252   \n",
       "2                                -330           -168            101   \n",
       "3                                  33           -367            206   \n",
       "4                                 158           -253             49   \n",
       "5                                   4           -122             70   \n",
       "\n",
       "Gene Accession Number AFFX-BioB-5_st  ... U48730_at U58516_at U73738_at  \\\n",
       "1                                206  ...       185       511      -125   \n",
       "2                                 74  ...       169       837       -36   \n",
       "3                               -215  ...       315      1199        33   \n",
       "4                                 31  ...       240       835       218   \n",
       "5                                252  ...       156       649        57   \n",
       "\n",
       "Gene Accession Number X06956_at X16699_at X83863_at Z17240_at L49218_f_at  \\\n",
       "1                           389       -37       793       329          36   \n",
       "2                           442       -17       782       295          11   \n",
       "3                           168        52      1138       777          41   \n",
       "4                           174      -110       627       170         -50   \n",
       "5                           504       -26       250       314          14   \n",
       "\n",
       "Gene Accession Number M71243_f_at Z78285_f_at  \n",
       "1                             191         -37  \n",
       "2                              76         -14  \n",
       "3                             228         -41  \n",
       "4                             126         -91  \n",
       "5                              56         -25  \n",
       "\n",
       "[5 rows x 7129 columns]"
      ]
     },
     "execution_count": 29,
     "metadata": {},
     "output_type": "execute_result"
    }
   ],
   "source": [
    "df_train.head()"
   ]
  },
  {
   "cell_type": "markdown",
   "metadata": {},
   "source": [
    "The data shows gene expression values for 7129 different genes. <br>\n",
    "We will now extract *train* and *test* feature matrices out of the relative DataFrames."
   ]
  },
  {
   "cell_type": "code",
   "execution_count": 34,
   "metadata": {},
   "outputs": [],
   "source": [
    "X_train = df_train.values\n",
    "X_test = df_test.values"
   ]
  },
  {
   "cell_type": "markdown",
   "metadata": {},
   "source": [
    "## 3. Prepare Data"
   ]
  },
  {
   "cell_type": "markdown",
   "metadata": {},
   "source": [
    "### 3.1 Standardize\n"
   ]
  },
  {
   "cell_type": "markdown",
   "metadata": {},
   "source": [
    "We use scikit-learn StandardScaler class to standardize our train and test data."
   ]
  },
  {
   "cell_type": "code",
   "execution_count": 37,
   "metadata": {},
   "outputs": [],
   "source": [
    "from sklearn.preprocessing import StandardScaler\n",
    "\n",
    "scaler = StandardScaler()\n",
    "X_train = scaler.fit_transform(X_train)\n",
    "X_test = scaler.fit_transform(X_test)"
   ]
  },
  {
   "cell_type": "markdown",
   "metadata": {},
   "source": [
    "### 3.2 Discretize\n"
   ]
  },
  {
   "cell_type": "markdown",
   "metadata": {},
   "source": [
    "Since the mRMR algorithm makes use of information metric functions, such as Shanon Entropy, we require the data to be discretized.<br>\n",
    "The discretization procedure aims at partitioning continuous variables to discretized intervals so that we can compute information metrics on. <br>\n",
    "\n",
    "Here we chose to use the scikit-learn KBinsDiscretizer for constant-width bins discretization that \n",
    "splits, for each gene, the full range of ob-served gene expression values in bins with equal size."
   ]
  },
  {
   "cell_type": "code",
   "execution_count": 39,
   "metadata": {},
   "outputs": [],
   "source": [
    "from sklearn.preprocessing import KBinsDiscretizer\n",
    "\n",
    "discretizer = KBinsDiscretizer(n_bins=3, encode='ordinal', strategy='uniform')\n",
    "X_train_discr = discretizer.fit_transform(X_train)"
   ]
  },
  {
   "cell_type": "markdown",
   "metadata": {},
   "source": [
    "## 4. mRMR Feature Selection"
   ]
  },
  {
   "cell_type": "markdown",
   "metadata": {},
   "source": [
    "Once we have our training set discretized, we can fit our mRMR algorithm on. We decide to select *5* features."
   ]
  },
  {
   "cell_type": "code",
   "execution_count": 86,
   "metadata": {},
   "outputs": [
    {
     "name": "stdout",
     "output_type": "stream",
     "text": [
      "selected feature indices ['X95735_at', 'Y12670_at', 'M55150_at', 'U50136_rna1_at', 'M21551_rna1_at']\n"
     ]
    }
   ],
   "source": [
    "from mrmr import MRMR\n",
    "\n",
    "mrmr = MRMR(n_features=5)\n",
    "selected_indices = mrmr.fit(X_train_discr, y_train)\n",
    "selected_feature_names = features[selected_indices]\n",
    "\n",
    "print('selected feature indices', selected_feature_names.to_list())"
   ]
  },
  {
   "cell_type": "markdown",
   "metadata": {},
   "source": [
    "We now filter the *train* and *test* feature matrices according to the selected feature indices"
   ]
  },
  {
   "cell_type": "code",
   "execution_count": null,
   "metadata": {},
   "outputs": [],
   "source": [
    "X_train_selection = X_train[:, selected_indices]\n",
    "X_test_selection = X_test[:, selected_indices]"
   ]
  },
  {
   "cell_type": "markdown",
   "metadata": {},
   "source": [
    "## 5. Model Building and Classification"
   ]
  },
  {
   "cell_type": "markdown",
   "metadata": {},
   "source": [
    "We will now build three different RF classifiers:\n",
    "1. the first one will be trained with the origianl feature matrix $X$,\n",
    "2. the second one will be trained with the feature matrix $X_{selection}$ containing only selected feature fectors,\n",
    "3. the third one will be trained with the feature matrix $X_{random}$ containing 5 random feature vectors. <br>\n",
    "\n",
    "Note: as we saw above, in both *train* and *test* set the data is unbalanced towards the subclass ALL. By setting the *class_weight* param to “balanced” mode we tell RandomForestClassifier to to automatically adjust weights inversely proportional to class frequencies in the input data."
   ]
  },
  {
   "cell_type": "code",
   "execution_count": null,
   "metadata": {},
   "outputs": [],
   "source": [
    "import numpy as np\n",
    "np.random.seed(123)"
   ]
  },
  {
   "cell_type": "code",
   "execution_count": 91,
   "metadata": {},
   "outputs": [
    {
     "name": "stdout",
     "output_type": "stream",
     "text": [
      "Accuracy on test data:\n",
      "All features: 0.74\n",
      "mRMR features: 0.85\n",
      "Random features: 0.53\n"
     ]
    }
   ],
   "source": [
    "from sklearn.ensemble import RandomForestClassifier\n",
    "\n",
    "print(\"Accuracy on test data:\")\n",
    "\n",
    "# classify with all features\n",
    "clf1 = RandomForestClassifier(class_weight='balanced')\n",
    "clf1.fit(X_train, y_train)\n",
    "print(\"All features: {:.2f}\".format(clf1.score(X_test, y_test)))\n",
    "\n",
    "# classify with selected features\n",
    "clf2 = RandomForestClassifier(class_weight='balanced')\n",
    "clf2.fit(X_train_selection, y_train)\n",
    "print(\"mRMR features: {:.2f}\".format(clf2.score(X_test_selection, y_test)))\n",
    "\n",
    "# classify with random features\n",
    "clf3 = RandomForestClassifier(class_weight='balanced')\n",
    "clf3.fit(X_train[:, -5:], y_train)\n",
    "print(\"Random features: {:.2f}\".format(clf3.score(X_test[:, -5:], y_test)))"
   ]
  },
  {
   "cell_type": "markdown",
   "metadata": {},
   "source": [
    "As we can see, the accuracy score of RF classifier build with the $X_{selection}$ outperforms the other two models."
   ]
  },
  {
   "cell_type": "markdown",
   "metadata": {},
   "source": [
    "## 6. Resources"
   ]
  },
  {
   "cell_type": "markdown",
   "metadata": {},
   "source": [
    "You can download the Notebook from my [GitHub page](https://github.com/aleromualdi/mRMR)"
   ]
  }
 ],
 "metadata": {
  "kernelspec": {
   "display_name": "Python 3",
   "language": "python",
   "name": "python3"
  },
  "language_info": {
   "codemirror_mode": {
    "name": "ipython",
    "version": 3
   },
   "file_extension": ".py",
   "mimetype": "text/x-python",
   "name": "python",
   "nbconvert_exporter": "python",
   "pygments_lexer": "ipython3",
   "version": "3.7.5"
  }
 },
 "nbformat": 4,
 "nbformat_minor": 4
}
